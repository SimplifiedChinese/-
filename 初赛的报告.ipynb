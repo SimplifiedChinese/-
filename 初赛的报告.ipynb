{
 "cells": [
  {
   "cell_type": "markdown",
   "metadata": {},
   "source": [
    "## 赛题描述 ##\n",
    "\n",
    "对于各大电商平台而言，良好的物流体验是提升用户满意度的一个重要手段。而准确预估订单的送达时间，不仅可以为用户下单提供有效决策，也可以让用户提前感知，合理规划收货时间。我们把如何准确预估每笔订单的送达时间，定义为订单物流时效预测问题。\n",
    "\n",
    "该问题的主要挑战是整个订单的履约流程较长，不仅涉及到下单-发货-揽件-走件-签收等多个环节，而且每个环节影响的因素也截然不同。同时，由于订单天然存在密度差异性，因此无论是从商家还是物流公司还是消费者（收货地）角度看，数据都不可避免地存在不平衡问题。因此本次大赛需要选手综合运用数学建模，模型设计，数据挖掘等多种技术手段，从而构建出高精度的算法模型，提升订单物流时效预测的精度。"
   ]
  },
  {
   "cell_type": "code",
   "execution_count": 1,
   "metadata": {
    "slideshow": {
     "slide_type": "-"
    }
   },
   "outputs": [],
   "source": [
    "import pandas as pd\n",
    "import numpy as np\n",
    "\n",
    "import warnings\n",
    "warnings.filterwarnings(\"ignore\")\n",
    "\n",
    "# 读入文件，先把主要的支付时间转换为相应类型\n",
    "train = pd.read_csv(\"SeedCup_pre_train.csv\",\"\\t\")\n",
    "test = pd.read_csv(\"SeedCup_pre_test.csv\",\"\\t\")"
   ]
  },
  {
   "cell_type": "code",
   "execution_count": 2,
   "metadata": {},
   "outputs": [
    {
     "data": {
      "text/html": [
       "<div>\n",
       "<style scoped>\n",
       "    .dataframe tbody tr th:only-of-type {\n",
       "        vertical-align: middle;\n",
       "    }\n",
       "\n",
       "    .dataframe tbody tr th {\n",
       "        vertical-align: top;\n",
       "    }\n",
       "\n",
       "    .dataframe thead th {\n",
       "        text-align: right;\n",
       "    }\n",
       "</style>\n",
       "<table border=\"1\" class=\"dataframe\">\n",
       "  <thead>\n",
       "    <tr style=\"text-align: right;\">\n",
       "      <th></th>\n",
       "      <th>uid</th>\n",
       "      <th>plat_form</th>\n",
       "      <th>biz_type</th>\n",
       "      <th>create_time</th>\n",
       "      <th>payed_time</th>\n",
       "      <th>product_id</th>\n",
       "      <th>cate1_id</th>\n",
       "      <th>cate2_id</th>\n",
       "      <th>cate3_id</th>\n",
       "      <th>preselling_shipped_time</th>\n",
       "      <th>...</th>\n",
       "      <th>lgst_company</th>\n",
       "      <th>warehouse_id</th>\n",
       "      <th>shipped_prov_id</th>\n",
       "      <th>shipped_city_id</th>\n",
       "      <th>rvcr_prov_name</th>\n",
       "      <th>rvcr_city_name</th>\n",
       "      <th>shipped_time</th>\n",
       "      <th>got_time</th>\n",
       "      <th>dlved_time</th>\n",
       "      <th>signed_time</th>\n",
       "    </tr>\n",
       "  </thead>\n",
       "  <tbody>\n",
       "    <tr>\n",
       "      <td>0</td>\n",
       "      <td>956745</td>\n",
       "      <td>2</td>\n",
       "      <td>4</td>\n",
       "      <td>2019-03-01 14:45:27</td>\n",
       "      <td>2019-03-01 14:45:37</td>\n",
       "      <td>24309</td>\n",
       "      <td>16</td>\n",
       "      <td>237</td>\n",
       "      <td>261</td>\n",
       "      <td>0</td>\n",
       "      <td>...</td>\n",
       "      <td>6</td>\n",
       "      <td>10</td>\n",
       "      <td>0</td>\n",
       "      <td>60</td>\n",
       "      <td>30</td>\n",
       "      <td>26</td>\n",
       "      <td>2019-03-01 15:33:08</td>\n",
       "      <td>2019-03-01 20:10:28</td>\n",
       "      <td>2019-03-01 21:00:36</td>\n",
       "      <td>2019-03-03 15:32:50</td>\n",
       "    </tr>\n",
       "    <tr>\n",
       "      <td>1</td>\n",
       "      <td>306593</td>\n",
       "      <td>2</td>\n",
       "      <td>5</td>\n",
       "      <td>2019-03-01 06:58:05</td>\n",
       "      <td>2019-03-01 06:58:22</td>\n",
       "      <td>40130</td>\n",
       "      <td>22</td>\n",
       "      <td>162</td>\n",
       "      <td>824</td>\n",
       "      <td>2019-03-05 00:00:00</td>\n",
       "      <td>...</td>\n",
       "      <td>7</td>\n",
       "      <td>10</td>\n",
       "      <td>21</td>\n",
       "      <td>92</td>\n",
       "      <td>26</td>\n",
       "      <td>228</td>\n",
       "      <td>2019-03-05 18:13:49</td>\n",
       "      <td>2019-03-06 13:10:05</td>\n",
       "      <td>2019-03-07 09:28:20</td>\n",
       "      <td>2019-03-11 18:16:54</td>\n",
       "    </tr>\n",
       "    <tr>\n",
       "      <td>2</td>\n",
       "      <td>867154</td>\n",
       "      <td>2</td>\n",
       "      <td>5</td>\n",
       "      <td>2019-03-01 11:10:29</td>\n",
       "      <td>2019-03-01 11:11:02</td>\n",
       "      <td>41591</td>\n",
       "      <td>22</td>\n",
       "      <td>162</td>\n",
       "      <td>824</td>\n",
       "      <td>2019-03-05 00:00:00</td>\n",
       "      <td>...</td>\n",
       "      <td>10</td>\n",
       "      <td>10</td>\n",
       "      <td>1</td>\n",
       "      <td>50</td>\n",
       "      <td>25</td>\n",
       "      <td>54</td>\n",
       "      <td>2019-03-01 19:08:32</td>\n",
       "      <td>2019-03-02 14:22:26</td>\n",
       "      <td>2019-03-02 21:20:12</td>\n",
       "      <td>2019-03-04 13:50:55</td>\n",
       "    </tr>\n",
       "    <tr>\n",
       "      <td>3</td>\n",
       "      <td>1235035</td>\n",
       "      <td>2</td>\n",
       "      <td>4</td>\n",
       "      <td>2019-03-02 12:11:08</td>\n",
       "      <td>2019-03-02 12:11:18</td>\n",
       "      <td>40989</td>\n",
       "      <td>16</td>\n",
       "      <td>236</td>\n",
       "      <td>260</td>\n",
       "      <td>0</td>\n",
       "      <td>...</td>\n",
       "      <td>6</td>\n",
       "      <td>10</td>\n",
       "      <td>1</td>\n",
       "      <td>50</td>\n",
       "      <td>0</td>\n",
       "      <td>185</td>\n",
       "      <td>2019-03-02 15:52:37</td>\n",
       "      <td>2019-03-03 20:20:14</td>\n",
       "      <td>2019-03-03 20:50:26</td>\n",
       "      <td>2019-03-05 17:12:30</td>\n",
       "    </tr>\n",
       "    <tr>\n",
       "      <td>4</td>\n",
       "      <td>353513</td>\n",
       "      <td>2</td>\n",
       "      <td>5</td>\n",
       "      <td>2019-03-01 14:02:20</td>\n",
       "      <td>2019-03-01 14:02:45</td>\n",
       "      <td>41591</td>\n",
       "      <td>22</td>\n",
       "      <td>162</td>\n",
       "      <td>824</td>\n",
       "      <td>2019-03-05 00:00:00</td>\n",
       "      <td>...</td>\n",
       "      <td>9</td>\n",
       "      <td>10</td>\n",
       "      <td>1</td>\n",
       "      <td>50</td>\n",
       "      <td>5</td>\n",
       "      <td>266</td>\n",
       "      <td>2019-03-02 15:36:42</td>\n",
       "      <td>2019-03-03 14:18:55</td>\n",
       "      <td>2019-03-04 11:20:05</td>\n",
       "      <td>2019-03-08 18:28:05</td>\n",
       "    </tr>\n",
       "  </tbody>\n",
       "</table>\n",
       "<p>5 rows × 22 columns</p>\n",
       "</div>"
      ],
      "text/plain": [
       "       uid  plat_form  biz_type          create_time           payed_time  \\\n",
       "0   956745          2         4  2019-03-01 14:45:27  2019-03-01 14:45:37   \n",
       "1   306593          2         5  2019-03-01 06:58:05  2019-03-01 06:58:22   \n",
       "2   867154          2         5  2019-03-01 11:10:29  2019-03-01 11:11:02   \n",
       "3  1235035          2         4  2019-03-02 12:11:08  2019-03-02 12:11:18   \n",
       "4   353513          2         5  2019-03-01 14:02:20  2019-03-01 14:02:45   \n",
       "\n",
       "   product_id  cate1_id  cate2_id  cate3_id preselling_shipped_time  ...  \\\n",
       "0       24309        16       237       261                       0  ...   \n",
       "1       40130        22       162       824     2019-03-05 00:00:00  ...   \n",
       "2       41591        22       162       824     2019-03-05 00:00:00  ...   \n",
       "3       40989        16       236       260                       0  ...   \n",
       "4       41591        22       162       824     2019-03-05 00:00:00  ...   \n",
       "\n",
       "   lgst_company  warehouse_id  shipped_prov_id  shipped_city_id  \\\n",
       "0             6            10                0               60   \n",
       "1             7            10               21               92   \n",
       "2            10            10                1               50   \n",
       "3             6            10                1               50   \n",
       "4             9            10                1               50   \n",
       "\n",
       "   rvcr_prov_name  rvcr_city_name         shipped_time             got_time  \\\n",
       "0              30              26  2019-03-01 15:33:08  2019-03-01 20:10:28   \n",
       "1              26             228  2019-03-05 18:13:49  2019-03-06 13:10:05   \n",
       "2              25              54  2019-03-01 19:08:32  2019-03-02 14:22:26   \n",
       "3               0             185  2019-03-02 15:52:37  2019-03-03 20:20:14   \n",
       "4               5             266  2019-03-02 15:36:42  2019-03-03 14:18:55   \n",
       "\n",
       "            dlved_time          signed_time  \n",
       "0  2019-03-01 21:00:36  2019-03-03 15:32:50  \n",
       "1  2019-03-07 09:28:20  2019-03-11 18:16:54  \n",
       "2  2019-03-02 21:20:12  2019-03-04 13:50:55  \n",
       "3  2019-03-03 20:50:26  2019-03-05 17:12:30  \n",
       "4  2019-03-04 11:20:05  2019-03-08 18:28:05  \n",
       "\n",
       "[5 rows x 22 columns]"
      ]
     },
     "execution_count": 2,
     "metadata": {},
     "output_type": "execute_result"
    }
   ],
   "source": [
    "train.head()"
   ]
  },
  {
   "cell_type": "markdown",
   "metadata": {},
   "source": [
    "## 评价标准 ##\n",
    "\n",
    "误差率 rankScore = MSE(real_signed_time ,pred_signed_time ) 精确到小时<br>\n",
    "准时率 onTimePercent = Count(pred_singed_date <= real_signed_date) 精确到天<br>\n",
    "解释：本次评分考虑两个因子，一方面考虑到货时间均方根误差，另外一个就是考虑是否有天级别延迟。排名首先要求准时率>=98%,在此基础上对误差率进行排名。"
   ]
  },
  {
   "cell_type": "markdown",
   "metadata": {},
   "source": [
    "## 变量说明 ##\n",
    "\n",
    "字段|数据类型|备注\n",
    ":-:|:-:|:-:\n",
    "uid买家id|int\t\n",
    "plat_form交易平台|int|贝贝/贝店/贝仓...\n",
    "biz_type业务来源|int|不同业务线售卖\n",
    "create_time订单创建时间|string yyyy-MM-dd hh:mm:ss|\n",
    "payed_time订单支付时间|string yyyy-MM-dd hh:mm:ss|\n",
    "product_id商品id|int|\n",
    "cate1_id商品类目1级|int|\n",
    "cate2_id商品类目2级|int|\n",
    "cate3_id商品类目3级|int|\n",
    "preselling_shipped_time预售发货时间|string yyyy-MM-dd hh:mm:ss|存在噪声数据\n",
    "seller_uid商家id|int|\n",
    "company_name商家公司id|int|\n",
    "lgst_company物流公司id|int|  \n",
    "warehouse_id仓库id|int|  \n",
    "shipped_prov_id 发货省份id|int| \n",
    "shipped_city_id 发货城市id|int|\n",
    "rvcr_prov_name 收货省份id|int|\n",
    "rvcr_city_name 收货城市id|int|\n",
    "shipped_time 发货时间|string yyyy-MM-dd hh:mm:ss|取决于商家填写（可能存在延迟）\n",
    "got_time 揽件时间|string yyyy-MM-dd hh:mm:ss|取决于物流公司信息（可能存在延迟）\n",
    "dlved_time 走件时间|string yyyy-MM-dd hh:mm:ss|\n",
    "signed_time 签收时间|string yyyy-MM-dd hh:mm:ss|"
   ]
  },
  {
   "cell_type": "code",
   "execution_count": 5,
   "metadata": {},
   "outputs": [
    {
     "name": "stdout",
     "output_type": "stream",
     "text": [
      "DataFrame shape : \n",
      "(373877, 22)\n",
      "=================================\n",
      "<class 'pandas.core.frame.DataFrame'>\n",
      "RangeIndex: 373877 entries, 0 to 373876\n",
      "Data columns (total 22 columns):\n",
      "uid                        373877 non-null int64\n",
      "plat_form                  373877 non-null int64\n",
      "biz_type                   373877 non-null int64\n",
      "create_time                373877 non-null object\n",
      "payed_time                 373877 non-null object\n",
      "product_id                 373877 non-null int64\n",
      "cate1_id                   373877 non-null int64\n",
      "cate2_id                   373877 non-null int64\n",
      "cate3_id                   373877 non-null int64\n",
      "preselling_shipped_time    373877 non-null object\n",
      "seller_uid                 373877 non-null int64\n",
      "company_name               373877 non-null int64\n",
      "lgst_company               373877 non-null int64\n",
      "warehouse_id               373877 non-null int64\n",
      "shipped_prov_id            373877 non-null int64\n",
      "shipped_city_id            373877 non-null int64\n",
      "rvcr_prov_name             373877 non-null int64\n",
      "rvcr_city_name             373877 non-null int64\n",
      "shipped_time               373877 non-null object\n",
      "got_time                   373877 non-null object\n",
      "dlved_time                 373877 non-null object\n",
      "signed_time                373877 non-null object\n",
      "dtypes: int64(15), object(7)\n",
      "memory usage: 62.8+ MB\n",
      "DataFrame info : \n",
      "None\n",
      "=================================\n",
      "DataFrame columns : \n",
      "Index(['uid', 'plat_form', 'biz_type', 'create_time', 'payed_time',\n",
      "       'product_id', 'cate1_id', 'cate2_id', 'cate3_id',\n",
      "       'preselling_shipped_time', 'seller_uid', 'company_name', 'lgst_company',\n",
      "       'warehouse_id', 'shipped_prov_id', 'shipped_city_id', 'rvcr_prov_name',\n",
      "       'rvcr_city_name', 'shipped_time', 'got_time', 'dlved_time',\n",
      "       'signed_time'],\n",
      "      dtype='object')\n",
      "=================================\n",
      "各列的类型: \n",
      "uid                         int64\n",
      "plat_form                   int64\n",
      "biz_type                    int64\n",
      "create_time                object\n",
      "payed_time                 object\n",
      "product_id                  int64\n",
      "cate1_id                    int64\n",
      "cate2_id                    int64\n",
      "cate3_id                    int64\n",
      "preselling_shipped_time    object\n",
      "seller_uid                  int64\n",
      "company_name                int64\n",
      "lgst_company                int64\n",
      "warehouse_id                int64\n",
      "shipped_prov_id             int64\n",
      "shipped_city_id             int64\n",
      "rvcr_prov_name              int64\n",
      "rvcr_city_name              int64\n",
      "shipped_time               object\n",
      "got_time                   object\n",
      "dlved_time                 object\n",
      "signed_time                object\n",
      "dtype: object\n",
      "=================================\n",
      "各列缺失值: \n",
      "uid                        0\n",
      "plat_form                  0\n",
      "biz_type                   0\n",
      "create_time                0\n",
      "payed_time                 0\n",
      "product_id                 0\n",
      "cate1_id                   0\n",
      "cate2_id                   0\n",
      "cate3_id                   0\n",
      "preselling_shipped_time    0\n",
      "seller_uid                 0\n",
      "company_name               0\n",
      "lgst_company               0\n",
      "warehouse_id               0\n",
      "shipped_prov_id            0\n",
      "shipped_city_id            0\n",
      "rvcr_prov_name             0\n",
      "rvcr_city_name             0\n",
      "shipped_time               0\n",
      "got_time                   0\n",
      "dlved_time                 0\n",
      "signed_time                0\n",
      "dtype: int64\n",
      "=================================\n"
     ]
    }
   ],
   "source": [
    "# Exploring the data using pandas methods : 'shape', 'info', 'describe', 'dtype', 'mean()', ...\n",
    "print(f\"DataFrame shape : \\n{train.shape}\\n=================================\")\n",
    "print(f\"DataFrame info : \\n{train.info()}\\n=================================\")\n",
    "print(f\"DataFrame columns : \\n{train.columns}\\n=================================\")\n",
    "print(f\"各列的类型: \\n{train.dtypes}\\n=================================\")\n",
    "print(f\"各列缺失值: \\n{train.isna().sum()}\\n=================================\")"
   ]
  },
  {
   "cell_type": "markdown",
   "metadata": {},
   "source": [
    "一个缺失值也没有，建模就不太困难，但需要进行异常值的处理"
   ]
  },
  {
   "cell_type": "markdown",
   "metadata": {},
   "source": [
    "## 预测目标—物流时效的探索性分析 ##\n",
    "\n",
    "可以参照物流时效的准确定义，加上对模型预测最终结果的探究，签收和支付间隔的小时数就是我们需要预测的目标。注意，我们这里将进行一次筛选，选取所有天数大于等于0的行。"
   ]
  },
  {
   "cell_type": "code",
   "execution_count": 6,
   "metadata": {},
   "outputs": [],
   "source": [
    "train['payed_time'] = pd.to_datetime(train['payed_time'],format='%Y-%m-%d %H:%M:%S')\n",
    "test['payed_time'] = pd.to_datetime(test['payed_time'],format='%Y-%m-%d %H:%M:%S')\n",
    "\n",
    "train['signed_time'] = pd.to_datetime(train['signed_time'],format='%Y-%m-%d %H:%M:%S')\n",
    "train['y'] = train['signed_time'] - train['payed_time']\n",
    "train['y_days'] = train['y'].dt.days\n",
    "train = train[train['y_days'] >= 0]\n",
    "train['y_hours'] = train['y'].dt.seconds / 3600 + train['y_days'] * 24\n",
    "train['y_hours'] = np.around(train['y_hours'], decimals=2)\n",
    "y_train_ = train['y_hours']"
   ]
  },
  {
   "cell_type": "markdown",
   "metadata": {},
   "source": [
    "这里可以查看一下我们所要预测的y的某些特征："
   ]
  },
  {
   "cell_type": "code",
   "execution_count": 7,
   "metadata": {},
   "outputs": [
    {
     "data": {
      "text/plain": [
       "count    373847.000000\n",
       "mean        103.260519\n",
       "std          62.270686\n",
       "min           1.540000\n",
       "25%          61.990000\n",
       "50%          80.700000\n",
       "75%         127.170000\n",
       "max         758.160000\n",
       "Name: y_hours, dtype: float64"
      ]
     },
     "execution_count": 7,
     "metadata": {},
     "output_type": "execute_result"
    }
   ],
   "source": [
    "train.y_hours.describe()"
   ]
  },
  {
   "cell_type": "markdown",
   "metadata": {},
   "source": [
    "这个是前10的天数分布，可以看见天数分布较为集中"
   ]
  },
  {
   "cell_type": "code",
   "execution_count": 8,
   "metadata": {},
   "outputs": [
    {
     "data": {
      "text/plain": [
       "2     109711\n",
       "3      80984\n",
       "4      37664\n",
       "1      37252\n",
       "5      26462\n",
       "6      19688\n",
       "7      18054\n",
       "8      15653\n",
       "9      10703\n",
       "10      7505\n",
       "Name: y_days, dtype: int64"
      ]
     },
     "execution_count": 8,
     "metadata": {},
     "output_type": "execute_result"
    }
   ],
   "source": [
    "train.y_days.value_counts().head(10)"
   ]
  },
  {
   "cell_type": "markdown",
   "metadata": {},
   "source": [
    "## 特征工程 ##\n",
    "\n",
    "这个版本的特征工程只是将属性转换为能被模型接受的，然后再喂给它。要注意时间等维度的异常值，以及异常的时间，当出现类似于1970年这样的异常值时也要进行相应的处理，对于预售类的，可以笼统地直接分为预售商品和非预售商品，这里将有类似异常的数据的预售数据全都视为没有预售的商品。\n",
    "\n",
    "先要将训练集和测试集和在一起，才能开始以下工作，可以发现共有47万多条数据。"
   ]
  },
  {
   "cell_type": "code",
   "execution_count": 9,
   "metadata": {},
   "outputs": [
    {
     "data": {
      "text/plain": [
       "(473847, 25)"
      ]
     },
     "execution_count": 9,
     "metadata": {},
     "output_type": "execute_result"
    }
   ],
   "source": [
    "data = pd.concat([train,test],axis=0,ignore_index=True)\n",
    "data.shape"
   ]
  },
  {
   "cell_type": "code",
   "execution_count": 10,
   "metadata": {},
   "outputs": [],
   "source": [
    "data['preselling_shipped_time'][data['preselling_shipped_time'] == \"0\"] = \"1970-01-01 00:00:00\"\n",
    "data['preselling_shipped_time'] = pd.to_datetime(data['preselling_shipped_time'],format='%Y-%m-%d %H:%M:%S')\n",
    "data['presell'] = data['preselling_shipped_time'].map(lambda x: 0 if x.year < 2019 else 1)"
   ]
  },
  {
   "cell_type": "markdown",
   "metadata": {},
   "source": [
    "其实这个分类有点粗糙，只考虑了年份在2019年之前的异常结果，具体出现预售时间比发货时间还要晚的（可能是假预售）商品，也有可能影响结果。不过经过对预售与否的方法的各种优化，发现该方法结果已经很不错了，但仍有不小的优化空间。\n",
    "\n",
    "我们可以看看这些预售与否的商品的描述，它们运输时间的差别还是存在比较大的差别的："
   ]
  },
  {
   "cell_type": "code",
   "execution_count": 11,
   "metadata": {},
   "outputs": [
    {
     "data": {
      "text/plain": [
       "count    128585.00000\n",
       "mean        161.42379\n",
       "std          65.64575\n",
       "min          18.06000\n",
       "25%         116.94000\n",
       "50%         159.11000\n",
       "75%         207.08000\n",
       "max         758.16000\n",
       "Name: y_hours, dtype: float64"
      ]
     },
     "execution_count": 11,
     "metadata": {},
     "output_type": "execute_result"
    }
   ],
   "source": [
    "data[data['presell'] == 1].y_hours.describe()"
   ]
  },
  {
   "cell_type": "code",
   "execution_count": 12,
   "metadata": {},
   "outputs": [
    {
     "data": {
      "text/plain": [
       "count    245262.000000\n",
       "mean         72.766908\n",
       "std          30.786877\n",
       "min           1.540000\n",
       "25%          53.280000\n",
       "50%          69.080000\n",
       "75%          87.800000\n",
       "max         699.960000\n",
       "Name: y_hours, dtype: float64"
      ]
     },
     "execution_count": 12,
     "metadata": {},
     "output_type": "execute_result"
    }
   ],
   "source": [
    "data[data['presell'] == 0].y_hours.describe()"
   ]
  },
  {
   "cell_type": "markdown",
   "metadata": {},
   "source": [
    "对于商品id，商品类目1级、2级、3级，商家id（这个和商家公司id相关度很高），笼统取前一些位置，和前面有关的各分为一类，剩下的其它当作一类。其实id通常对建模没有太好的效果，但是对于商品而言，大体积类的商品很有可能运输时间长一些，需要订做的商品发货时间可能和支付时间相隔很长，这些都会影响到我们所需要预测的物流时效。"
   ]
  },
  {
   "cell_type": "code",
   "execution_count": 13,
   "metadata": {},
   "outputs": [
    {
     "data": {
      "text/plain": [
       "407959"
      ]
     },
     "execution_count": 13,
     "metadata": {},
     "output_type": "execute_result"
    }
   ],
   "source": [
    "data.product_id.value_counts().head(3000).sum()"
   ]
  },
  {
   "cell_type": "code",
   "execution_count": 14,
   "metadata": {},
   "outputs": [
    {
     "data": {
      "text/plain": [
       "443161"
      ]
     },
     "execution_count": 14,
     "metadata": {},
     "output_type": "execute_result"
    }
   ],
   "source": [
    "data.cate1_id.value_counts().head(10).sum()"
   ]
  },
  {
   "cell_type": "code",
   "execution_count": 15,
   "metadata": {},
   "outputs": [
    {
     "data": {
      "text/plain": [
       "422172"
      ]
     },
     "execution_count": 15,
     "metadata": {},
     "output_type": "execute_result"
    }
   ],
   "source": [
    "data.cate2_id.value_counts().head(40).sum()"
   ]
  },
  {
   "cell_type": "code",
   "execution_count": 16,
   "metadata": {},
   "outputs": [
    {
     "data": {
      "text/plain": [
       "407874"
      ]
     },
     "execution_count": 16,
     "metadata": {},
     "output_type": "execute_result"
    }
   ],
   "source": [
    "data.cate3_id.value_counts().head(160).sum()"
   ]
  },
  {
   "cell_type": "code",
   "execution_count": 17,
   "metadata": {},
   "outputs": [
    {
     "data": {
      "text/plain": [
       "425562"
      ]
     },
     "execution_count": 17,
     "metadata": {},
     "output_type": "execute_result"
    }
   ],
   "source": [
    "data.seller_uid.value_counts().head(400).sum()"
   ]
  },
  {
   "cell_type": "markdown",
   "metadata": {},
   "source": [
    "这些差不多都在40万左右。"
   ]
  },
  {
   "cell_type": "code",
   "execution_count": 20,
   "metadata": {},
   "outputs": [],
   "source": [
    "product_id_index = list(data.product_id.value_counts().head(3000).index)\n",
    "cate1_id_index = list(data.cate1_id.value_counts().head(10).index)\n",
    "cate2_id_index = list(data.cate2_id.value_counts().head(40).index)\n",
    "cate3_id_index = list(data.cate3_id.value_counts().head(160).index)\n",
    "\n",
    "data[\"product_id_x\"] = data[\"product_id\"].map(lambda x:product_id_index.index(x) if x in product_id_index else len(product_id_index))\n",
    "data[\"cate1_id_x\"] = data[\"cate1_id\"].map(lambda x:cate1_id_index.index(x) if x in cate1_id_index else len(cate1_id_index))\n",
    "data[\"cate2_id_x\"] = data[\"cate2_id\"].map(lambda x:cate2_id_index.index(x) if x in cate2_id_index else len(cate2_id_index))\n",
    "data[\"cate3_id_x\"] = data[\"cate3_id\"].map(lambda x:cate3_id_index.index(x) if x in cate3_id_index else len(cate3_id_index))\n",
    "\n",
    "seller_uid_index = list(data.seller_uid.value_counts().head(400).index)\n",
    "data[\"seller_uid_x\"] = data[\"seller_uid\"].map(lambda x:seller_uid_index.index(x) if x in seller_uid_index else len(seller_uid_index))"
   ]
  },
  {
   "cell_type": "markdown",
   "metadata": {},
   "source": [
    "剔除掉对物流时效关系不大的特征，以及大多数没有在测试样本里出现的特征，我们决定选举以下10项作为特征进行学习："
   ]
  },
  {
   "cell_type": "code",
   "execution_count": 21,
   "metadata": {},
   "outputs": [],
   "source": [
    "a = data[[\"product_id_x\",\"cate1_id_x\",\"cate2_id_x\",\n",
    "          \"cate3_id_x\",\"seller_uid_x\",\"presell\",\n",
    "          \"plat_form\",\"biz_type\",\"rvcr_prov_name\",\"rvcr_city_name\"]]\n",
    "X_train_ = a[:train.shape[0]]\n",
    "X_test_  = a[train.shape[0]:]\n",
    "target_column = \"y_hours\"\n",
    "feature_columns = list(X_test_.columns)\n",
    "\n",
    "X_train = np.array(X_train_)\n",
    "y_train = np.array(y_train_)\n",
    "X_test  = np.array(X_test_)"
   ]
  },
  {
   "cell_type": "markdown",
   "metadata": {},
   "source": [
    "可以查看它们的关系热力图："
   ]
  },
  {
   "cell_type": "code",
   "execution_count": 22,
   "metadata": {},
   "outputs": [
    {
     "data": {
      "text/plain": [
       "<matplotlib.axes._subplots.AxesSubplot at 0x158aa23e7b8>"
      ]
     },
     "execution_count": 22,
     "metadata": {},
     "output_type": "execute_result"
    },
    {
     "data": {
      "image/png": "[encoded data removed]",
      "text/plain": [
       "<matplotlib.figure.Figure at 0x158aa23e8d0>"
      ]
     },
     "metadata": {
      "needs_background": "light"
     },
     "output_type": "display_data"
    }
   ],
   "source": [
    "import matplotlib.pyplot as plt\n",
    "import seaborn as sns\n",
    "%matplotlib inline\n",
    "\n",
    "Correlation = pd.DataFrame(data[[\"product_id_x\",\"cate1_id_x\",\"cate2_id_x\",\n",
    "                                 \"cate3_id_x\",\"seller_uid_x\",\"presell\",\"plat_form\",\n",
    "                                 \"biz_type\",\"rvcr_prov_name\",\"rvcr_city_name\"]])\n",
    "colormap = plt.cm.viridis\n",
    "plt.figure(figsize=(14,12))\n",
    "plt.title('Pearson Correaltion of Feature',y=1.05,size=15)\n",
    "sns.heatmap(Correlation.astype(float).corr(),linewidths=0.1,vmax=1.0,square=True,cmap=colormap,linecolor='white',annot=True)"
   ]
  },
  {
   "cell_type": "markdown",
   "metadata": {},
   "source": [
    "## 模型建立与求解 ##\n",
    "\n",
    "由于我们选取的是树模型算法，不需要进行归一化或者one-hot编码等操作，可以直接将这些数据喂给模型。我们选取了xgboost、lightgbm、catboost三大著名提升树算法，进行模型的建立与求解，并将所有的结果写入文件。"
   ]
  },
  {
   "cell_type": "code",
   "execution_count": 23,
   "metadata": {},
   "outputs": [],
   "source": [
    "from sklearn.metrics import mean_squared_error\n",
    "import lightgbm as lgb\n",
    "import xgboost as xgb\n",
    "from catboost import Pool, CatBoostRegressor\n",
    "from sklearn.model_selection import train_test_split\n",
    "from sklearn.preprocessing import OneHotEncoder\n",
    "from sklearn.model_selection import KFold, RepeatedKFold"
   ]
  },
  {
   "cell_type": "code",
   "execution_count": null,
   "metadata": {},
   "outputs": [],
   "source": [
    "#lgb\n",
    "param = {'boosting_type': 'gbdt',\n",
    "         'num_leaves': 32,\n",
    "         'min_data_in_leaf': 100, \n",
    "         'objective':'regression',\n",
    "         'max_depth': 7,\n",
    "         'learning_rate': 0.01,\n",
    "         \"min_child_samples\": 30,\n",
    "         \n",
    "         \"feature_fraction\": 0.8,\n",
    "         \"bagging_freq\": 1,\n",
    "         \"bagging_fraction\": 0.8 ,\n",
    "         \"bagging_seed\": 11,\n",
    "         \"metric\": 'mse',\n",
    "         \"lambda_l1\": 0.1,\n",
    "         \"verbosity\": -1}\n",
    "folds = KFold(n_splits=5, shuffle=True, random_state=2019)\n",
    "oof_lgb = np.zeros(len(X_train_))\n",
    "predictions_lgb = np.zeros(len(X_test_))\n",
    "\n",
    "for fold_, (trn_idx, val_idx) in enumerate(folds.split(X_train, y_train)):\n",
    "    print(\"fold n°{}\".format(fold_+1))\n",
    "    trn_data = lgb.Dataset(X_train[trn_idx], y_train[trn_idx])\n",
    "    \n",
    "    val_data = lgb.Dataset(X_train[val_idx], y_train[val_idx])\n",
    "\n",
    "    num_round = 50000\n",
    "    clf = lgb.train(param, trn_data, num_round, valid_sets = [trn_data, val_data], verbose_eval=1000, early_stopping_rounds = 100)\n",
    "    oof_lgb[val_idx] = clf.predict(X_train[val_idx], num_iteration=clf.best_iteration)\n",
    "    \n",
    "    predictions_lgb += clf.predict(X_test, num_iteration=clf.best_iteration) / folds.n_splits\n",
    "\n",
    "print(\"CV score: {:<8.8f}\".format(mean_squared_error(oof_lgb, y_train_)))\n",
    "\n",
    "\n",
    "b = []\n",
    "for i in predictions_lgb:\n",
    "    b.append(pd.Timedelta(hours = i))\n",
    "b = pd.Series(b)\n",
    "test['ptime'] = test['payed_time'] + b\n",
    "c = pd.DataFrame({'a':test['ptime'].dt.date.astype(\"str\"),'b':test['ptime'].dt.hour.astype(\"str\")})\n",
    "c[\"b\"] = c[\"b\"].map(lambda x:x if len(x) == 2 else \"0\"+x)\n",
    "c.to_csv(\"sample_result_lgb.txt\",sep = \" \",header = 0,index = 0)"
   ]
  },
  {
   "cell_type": "code",
   "execution_count": null,
   "metadata": {},
   "outputs": [],
   "source": [
    "#xgb\n",
    "def myFeval(preds, xgbtrain):\n",
    "    label = xgbtrain.get_label()\n",
    "    score = mean_squared_error(label,preds)\n",
    "    return 'myFeval',score\n",
    "\n",
    "xgb_params = {\"booster\":'gbtree','eta': 0.005, 'max_depth': 7, 'subsample': 0.7, \n",
    "              'colsample_bytree': 0.8, 'objective': 'reg:linear', 'eval_metric': 'rmse', 'silent': True}\n",
    "folds = KFold(n_splits=5, shuffle=True, random_state=2019)\n",
    "oof_xgb = np.zeros(len(train))\n",
    "predictions_xgb = np.zeros(len(test))\n",
    "\n",
    "for fold_, (trn_idx, val_idx) in enumerate(folds.split(X_train, y_train)):\n",
    "    print(\"fold n°{}\".format(fold_+1))\n",
    "    trn_data = xgb.DMatrix(X_train[trn_idx], y_train[trn_idx])\n",
    "    val_data = xgb.DMatrix(X_train[val_idx], y_train[val_idx])\n",
    "    \n",
    "    watchlist = [(trn_data, 'train'), (val_data, 'valid_data')]\n",
    "    clf = xgb.train(dtrain=trn_data, num_boost_round=20000, evals=watchlist, early_stopping_rounds=100, verbose_eval=500, params=xgb_params,feval = myFeval)\n",
    "    oof_xgb[val_idx] = clf.predict(xgb.DMatrix(X_train[val_idx]), ntree_limit=clf.best_ntree_limit)\n",
    "    predictions_xgb += clf.predict(xgb.DMatrix(X_test), ntree_limit=clf.best_ntree_limit) / folds.n_splits\n",
    "    \n",
    "print(\"CV score: {:<8.8f}\".format(mean_squared_error(oof_xgb, y_train)))\n",
    "\n",
    "b = []\n",
    "for i in predictions_xgb:\n",
    "    b.append(pd.Timedelta(hours = i))\n",
    "b = pd.Series(b)\n",
    "test['ptime'] = test['payed_time'] + b\n",
    "c = pd.DataFrame({'a':test['ptime'].dt.date.astype(\"str\"),'b':test['ptime'].dt.hour.astype(\"str\")})\n",
    "c[\"b\"] = c[\"b\"].map(lambda x:x if len(x) == 2 else \"0\"+x)\n",
    "c.to_csv(\"sample_result_xgb.txt\",sep = \" \",header = 0,index = 0)"
   ]
  },
  {
   "cell_type": "code",
   "execution_count": null,
   "metadata": {},
   "outputs": [],
   "source": [
    "#cat\n",
    "kfolder = KFold(n_splits=5, shuffle=True, random_state=2019)\n",
    "oof_cb = np.zeros(len(X_train_))\n",
    "predictions_cb = np.zeros(len(X_test_))\n",
    "kfold = kfolder.split(X_train_, y_train_)\n",
    "fold_=0\n",
    "#X_train_s, X_test_s, y_train_s, y_test_s = train_test_split(X_train, y_train, test_size=0.3, random_state=2019)\n",
    "for train_index, vali_index in kfold:\n",
    "    print(\"fold n°{}\".format(fold_))\n",
    "    fold_=fold_+1\n",
    "    k_x_train = X_train[train_index]\n",
    "    k_y_train = y_train[train_index]\n",
    "    k_x_vali = X_train[vali_index]\n",
    "    k_y_vali = y_train[vali_index]\n",
    "    cb_params = {\n",
    "         'n_estimators': 100000,\n",
    "         'loss_function': 'RMSE',\n",
    "         'eval_metric':'RMSE',\n",
    "         'learning_rate': 0.05,\n",
    "         'depth': 6,\n",
    "         'use_best_model': True,\n",
    "         'subsample': 0.6,\n",
    "         'bootstrap_type': 'Bernoulli',\n",
    "         'reg_lambda': 3\n",
    "    }\n",
    "    model_cb = CatBoostRegressor(**cb_params)\n",
    "    #train the model\n",
    "    model_cb.fit(k_x_train, k_y_train,eval_set=[(k_x_vali, k_y_vali)],verbose=100,early_stopping_rounds=50)\n",
    "    oof_cb[vali_index] = model_cb.predict(k_x_vali, ntree_end=model_cb.best_iteration_)\n",
    "    predictions_cb += model_cb.predict(X_test_, ntree_end=model_cb.best_iteration_) / kfolder.n_splits\n",
    "\n",
    "print(\"CV score: {:<8.8f}\".format(mean_squared_error(oof_cb, y_train_)))\n",
    "\n",
    "b = []\n",
    "for i in predictions_cb:\n",
    "    b.append(pd.Timedelta(hours = i))\n",
    "b = pd.Series(b)\n",
    "test['ptime'] = test['payed_time'] + b\n",
    "c = pd.DataFrame({'a':test['ptime'].dt.date.astype(\"str\"),'b':test['ptime'].dt.hour.astype(\"str\")})\n",
    "c[\"b\"] = c[\"b\"].map(lambda x:x if len(x) == 2 else \"0\"+x)\n",
    "c.to_csv(\"sample_result_cb.txt\",sep = \" \",header = 0,index = 0)"
   ]
  },
  {
   "cell_type": "markdown",
   "metadata": {},
   "source": [
    "## 结果的分析和优化 ##\n",
    "\n",
    "通过对之前的文件的提交以及对测试集上结果的分析，发现其rank_score能够接受，但是on_time_percent远远达不到要求。\n",
    "\n",
    "tri()函数定义了读取文件时间的方法，我们可以对时间和日期进行分析。"
   ]
  },
  {
   "cell_type": "code",
   "execution_count": null,
   "metadata": {},
   "outputs": [],
   "source": [
    "# 读取这三个算法出来的原始文件\n",
    "def tri(a):\n",
    "    b = pd.read_csv(a,header = None)\n",
    "    b['d'] = pd.to_datetime(b[0],format='%Y-%m-%d %H')   \n",
    "    test = pd.read_csv(\"SeedCup_pre_test.csv\",\"\\t\")\n",
    "    test['payed_time'] = pd.to_datetime(test['payed_time'],format='%Y-%m-%d %H:%M:%S')\n",
    "    test['signed_time'] = pd.to_datetime(b[0],format='%Y-%m-%d %H')    \n",
    "    test['y'] = test['signed_time'] - test['payed_time']\n",
    "    test['y_days'] = test['y'].dt.days\n",
    "    test = test[test['y_days'] >= 0]\n",
    "    test['y_hours'] = test['y'].dt.seconds / 3600 + test['y_days'] * 24\n",
    "    test['y_hours'] = np.around(test['y_hours'], decimals=2)    \n",
    "    return test\n",
    "\n",
    "test1 = tri(\"sample_result_cb.csv\")\n",
    "test1.y_hours.describe()\n",
    "test1.signed_time.dt.date.value_counts()\n",
    "test2 = tri(\"sample_result_lgb.csv\")\n",
    "test2.y_hours.describe()\n",
    "test2.signed_time.dt.date.value_counts()\n",
    "test3 = tri(\"sample_result_xgb.csv\")\n",
    "test3.y_hours.describe()\n",
    "test3.signed_time.dt.date.value_counts()"
   ]
  },
  {
   "cell_type": "markdown",
   "metadata": {},
   "source": [
    "结合baseline的结果和on_time_percent的定义和要求，我们决定对所预测的时间进行下列所述的机械性下降，历经简单的调整后，可以发现\n",
    "on_time_percent正好达到0.98的要求，且rank_score不会有非常大的变化。"
   ]
  },
  {
   "cell_type": "code",
   "execution_count": null,
   "metadata": {},
   "outputs": [],
   "source": [
    "a = pd.DataFrame({'a':test1.signed_time,'b':test2.signed_time,'c':test3.signed_time})\n",
    "a['d'] = a.apply(lambda x:min(x.a,x.b,x.c),axis=1)\n",
    "import datetime\n",
    "import random\n",
    "random.seed(2019)\n",
    "def adjust(x):\n",
    "    if x.hour >= 2:\n",
    "        return datetime.datetime(x.year,x.month,x.day - 1,23)\n",
    "    elif x.hour == 1:\n",
    "        if random.random() > 0.5:\n",
    "            return datetime.datetime(x.year,x.month,x.day - 1,23)\n",
    "        else:\n",
    "            return datetime.datetime(x.year,x.month,x.day - 2,23)\n",
    "    else:    \n",
    "        return datetime.datetime(x.year,x.month,x.day - 2,23)\n",
    "\n",
    "a['e'] = a['d'].map(adjust)\n",
    "c = pd.DataFrame({'a':a['e'].dt.date.astype(\"str\"),'b':a['e'].dt.hour.astype(\"str\")})\n",
    "c[\"b\"] = c[\"b\"].map(lambda x:x if len(x) == 2 else \"0\"+x)\n",
    "c.to_csv(\"sample_result.txt\",sep = \" \",header = 0,index = 0)"
   ]
  },
  {
   "cell_type": "markdown",
   "metadata": {},
   "source": [
    "本方案的优化空间还有很大，至少存在以下几点：\n",
    "+ 可以专门探究预售关系，制定更为严格的预售与否的标准。\n",
    "+ 可以将每天的时间进行分段，作为一个重要的特征输入模型。\n",
    "+ 可以进行真正的特征工程工作，筛选出真正有用的特征进行建模。或者增加一些有用的特征。\n",
    "+ 可以自定义xgboost等算法中的代价函数，使其更加适合on_time_percent，模型原始的预测值就达到比较高的标准。\n",
    "+ 可以改进最后的减少日期的算法，进行on_time_percent的提升，同时减少对rank_score的影响。"
   ]
  }
 ],
 "metadata": {
  "kernelspec": {
   "display_name": "Python 3",
   "language": "python",
   "name": "python3"
  },
  "language_info": {
   "codemirror_mode": {
    "name": "ipython",
    "version": 3
   },
   "file_extension": ".py",
   "mimetype": "text/x-python",
   "name": "python",
   "nbconvert_exporter": "python",
   "pygments_lexer": "ipython3",
   "version": "3.6.4"
  }
 },
 "nbformat": 4,
 "nbformat_minor": 2
}
